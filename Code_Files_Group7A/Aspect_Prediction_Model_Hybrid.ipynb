{
 "cells": [
  {
   "cell_type": "code",
   "execution_count": 1,
   "metadata": {},
   "outputs": [],
   "source": [
    "from __future__ import print_function\n",
    "import os\n",
    "from os import path\n",
    "\n",
    "import sys\n",
    "import numpy as np\n",
    "np.random.seed(1337)\n",
    "\n",
    "import pandas as pd"
   ]
  },
  {
   "cell_type": "markdown",
   "metadata": {},
   "source": [
    "### Importing texts"
   ]
  },
  {
   "cell_type": "code",
   "execution_count": 2,
   "metadata": {},
   "outputs": [
    {
     "name": "stdout",
     "output_type": "stream",
     "text": [
      "File exists:True\n",
      "Before removing NaN value:  (5055, 5)\n",
      "After removing NaN value:  (5055, 5)\n",
      "   review_id                                             phrase  \\\n",
      "0          0     judging previous posts used good place longer    \n",
      "1          1    four arrived noon place empty staff acted like    \n",
      "2          1  four arrived noon place empty staff acted like...   \n",
      "3          1              empty staff acted like imposing rude    \n",
      "4          2        repeated requests sugar threw dishes table    \n",
      "\n",
      "             category aspect_term  polarity  \n",
      "0  RESTAURANT#GENERAL       posts  negative  \n",
      "1     SERVICE#GENERAL       staff  negative  \n",
      "2     SERVICE#GENERAL        rude  negative  \n",
      "3     SERVICE#GENERAL        rude  negative  \n",
      "4     SERVICE#GENERAL         eat  negative  \n",
      "FOOD#QUALITY                1709\n",
      "SERVICE#GENERAL              902\n",
      "AMBIENCE#GENERAL             581\n",
      "RESTAURANT#GENERAL           535\n",
      "FOOD#STYLE_OPTIONS           379\n",
      "DRINKS#QUALITY               191\n",
      "FOOD#PRICES                  178\n",
      "RESTAURANT#MISCELLANEOUS     177\n",
      "RESTAURANT#PRICES            147\n",
      "DRINKS#STYLE_OPTIONS         100\n",
      "LOCATION#GENERAL              96\n",
      "DRINKS#PRICES                 55\n",
      "FOOD#GENERAL                   5\n",
      "Name: category, dtype: int64\n"
     ]
    }
   ],
   "source": [
    "# check if file exists\n",
    "print (\"File exists:\"+str(path.exists(\"ABSACOMBINED.csv\")))\n",
    "\n",
    "# import text and remove those with null category\n",
    "input_data = pd.read_csv(\"ABSACOMBINED.csv\")\n",
    "print('Before removing NaN value: ', input_data.shape)\n",
    "input_data = input_data.dropna(subset=['category'])\n",
    "print('After removing NaN value: ', input_data.shape)\n",
    "print(input_data.head(5))\n",
    "\n",
    "# define data grouped by review id (as dataframe)\n",
    "grouped_df = input_data.groupby('review_id')\n",
    "actual_category = grouped_df['category'].agg(lambda column: \",\".join(column))\n",
    "actual_category = actual_category.reset_index(name='category')\n",
    "\n",
    "# define x_train and y_train data\n",
    "review_id = input_data.review_id\n",
    "phrase = input_data.phrase\n",
    "category = input_data.category\n",
    "print(category.value_counts())"
   ]
  },
  {
   "cell_type": "code",
   "execution_count": 3,
   "metadata": {},
   "outputs": [],
   "source": [
    "MAX_SEQ_LENGTH = 10  # most of the phrase is within length of 10\n",
    "MAX_NB_WORDS = 400000  # I set this based on the number of words found in the glove.txt (should have no effect as only 2744 tokens found below) \n",
    "EMBEDDING_DIM = 100  # I tried using glove 100d"
   ]
  },
  {
   "cell_type": "markdown",
   "metadata": {},
   "source": [
    "#### vectorize the text samples into a 2D integer tensor and padding the sentences"
   ]
  },
  {
   "cell_type": "code",
   "execution_count": 4,
   "metadata": {},
   "outputs": [
    {
     "name": "stderr",
     "output_type": "stream",
     "text": [
      "Using TensorFlow backend.\n"
     ]
    },
    {
     "name": "stdout",
     "output_type": "stream",
     "text": [
      "Found 2890 unique tokens.\n",
      "Let's have a quick look at the word_index data..\n",
      "[('food', 1), ('great', 2), ('good', 3), ('service', 4), ('place', 5), ('best', 6), ('nice', 7), ('like', 8), ('restaurant', 9), ('excellent', 10)]\n"
     ]
    }
   ],
   "source": [
    "from keras.preprocessing.text import Tokenizer\n",
    "from keras.preprocessing.sequence import pad_sequences\n",
    "\n",
    "tokenizer = Tokenizer(num_words=MAX_NB_WORDS, lower=False)\n",
    "tokenizer.fit_on_texts(phrase)\n",
    "sequences = tokenizer.texts_to_sequences(phrase)\n",
    "\n",
    "word_index = tokenizer.word_index\n",
    "print('Found %s unique tokens.' % len(word_index))\n",
    "print (\"Let's have a quick look at the word_index data..\")\n",
    "print (list(word_index.items())[:10])"
   ]
  },
  {
   "cell_type": "code",
   "execution_count": 5,
   "metadata": {},
   "outputs": [
    {
     "name": "stdout",
     "output_type": "stream",
     "text": [
      "[[2232 1489 2233 ...    0    0    0]\n",
      " [ 416  876 1780 ...    8    0    0]\n",
      " [ 416  876 1780 ...    8 1781  111]\n",
      " ...\n",
      " [   3    1   57 ...    0    0    0]\n",
      " [   3    1   57 ...    0    0    0]\n",
      " [   3    1   57 ...    0    0    0]]\n",
      "Shape of tokenised output: (5055, 10)\n"
     ]
    }
   ],
   "source": [
    "tokenised_sequence = pad_sequences(sequences, maxlen=MAX_SEQ_LENGTH, padding='post')\n",
    "print(tokenised_sequence)\n",
    "print('Shape of tokenised output:', tokenised_sequence.shape)"
   ]
  },
  {
   "cell_type": "markdown",
   "metadata": {
    "collapsed": true
   },
   "source": [
    "#### defining output data"
   ]
  },
  {
   "cell_type": "code",
   "execution_count": 6,
   "metadata": {},
   "outputs": [],
   "source": [
    "review_id_list = review_id.tolist()\n",
    "category_list = category.tolist()"
   ]
  },
  {
   "cell_type": "code",
   "execution_count": 7,
   "metadata": {
    "scrolled": true
   },
   "outputs": [
    {
     "name": "stdout",
     "output_type": "stream",
     "text": [
      "[('AMBIENCE#GENERAL', 581), ('FOOD#QUALITY', 1709), ('RESTAURANT#GENERAL', 535), ('SERVICE#GENERAL', 902)]\n",
      "[1.60370052 0.54520187 1.74158879 1.03298226]\n"
     ]
    }
   ],
   "source": [
    "from collections import Counter\n",
    "from sklearn.utils import class_weight\n",
    "\n",
    "class_list = ['FOOD#QUALITY', 'SERVICE#GENERAL', 'AMBIENCE#GENERAL', 'RESTAURANT#GENERAL']\n",
    "filtered_phrase = []\n",
    "filtered_category = []\n",
    "filtered_id = []\n",
    "\n",
    "for i in range(len(category_list)):  # to choose the top 4 largest class\n",
    "    if category_list[i] in class_list:\n",
    "        filtered_id.append(review_id_list[i])\n",
    "        filtered_phrase.append(tokenised_sequence[i])\n",
    "        filtered_category.append(category_list[i])\n",
    "        \n",
    "np_phrase = np.array(filtered_phrase)  # So this is without oversampling, the accuracy improves from 0.2 to 0.4 but still all same prob\n",
    "np_category = np.array(filtered_category)\n",
    "print(sorted(Counter(np_category).items()))\n",
    "\n",
    "# class weight to handle imbalanced data\n",
    "class_weights = class_weight.compute_class_weight('balanced',\n",
    "                                                 np.unique(np_category),\n",
    "                                                 np_category)\n",
    "print(class_weights)"
   ]
  },
  {
   "cell_type": "markdown",
   "metadata": {},
   "source": [
    "**transform output data into categorical index**"
   ]
  },
  {
   "cell_type": "code",
   "execution_count": 8,
   "metadata": {
    "scrolled": true
   },
   "outputs": [
    {
     "name": "stdout",
     "output_type": "stream",
     "text": [
      "[[0. 0. 1. 0.]\n",
      " [0. 0. 0. 1.]\n",
      " [0. 0. 0. 1.]\n",
      " ...\n",
      " [0. 1. 0. 0.]\n",
      " [0. 1. 0. 0.]\n",
      " [1. 0. 0. 0.]]\n",
      "(3727, 4)\n"
     ]
    }
   ],
   "source": [
    "from sklearn.preprocessing import LabelEncoder\n",
    "from sklearn.preprocessing import OneHotEncoder\n",
    "\n",
    "label_encoder = LabelEncoder()\n",
    "integer_encoded = label_encoder.fit_transform(np_category)\n",
    "    \n",
    "# binary encode\n",
    "onehot_encoder = OneHotEncoder(sparse=False)\n",
    "integer_encoded = integer_encoded.reshape(len(integer_encoded), 1)\n",
    "onehot_encoded = onehot_encoder.fit_transform(integer_encoded)\n",
    "print(onehot_encoded)\n",
    "print(onehot_encoded.shape)"
   ]
  },
  {
   "cell_type": "markdown",
   "metadata": {},
   "source": [
    "**Tidy up all variables**"
   ]
  },
  {
   "cell_type": "code",
   "execution_count": 9,
   "metadata": {},
   "outputs": [
    {
     "name": "stdout",
     "output_type": "stream",
     "text": [
      "Train with 2982\n",
      "Test with 745\n"
     ]
    }
   ],
   "source": [
    "# 80% as training data\n",
    "# 20% as testing data\n",
    "import math\n",
    "\n",
    "phrase_size = np_phrase.shape[0]\n",
    "category_size = onehot_encoded.shape[0]\n",
    "assert phrase_size == category_size\n",
    "\n",
    "train_limit = math.ceil(category_size*0.8)\n",
    "test_limit = category_size\n",
    "\n",
    "x_train = np_phrase[:train_limit]\n",
    "x_test = np_phrase[train_limit:test_limit]\n",
    "y_train = onehot_encoded[:train_limit]\n",
    "y_test = onehot_encoded[train_limit:test_limit]\n",
    "id_test = filtered_id[train_limit:test_limit]\n",
    "\n",
    "print(\"Train with \" + str(train_limit))\n",
    "print(\"Test with \" + str(test_limit - train_limit))"
   ]
  },
  {
   "cell_type": "markdown",
   "metadata": {},
   "source": [
    "#### Indexing Word Vectors"
   ]
  },
  {
   "cell_type": "code",
   "execution_count": 10,
   "metadata": {},
   "outputs": [
    {
     "name": "stdout",
     "output_type": "stream",
     "text": [
      "Indexing word vectors.\n",
      "File exists:True\n",
      "Found 400000 word vectors.\n"
     ]
    }
   ],
   "source": [
    "print('Indexing word vectors.')\n",
    "\n",
    "embeddings_index = {}\n",
    "\n",
    "# check if file exists\n",
    "print (\"File exists:\"+str(path.exists(\"glove.6B.100d.txt\")))\n",
    "\n",
    "f = open(\"glove.6B.100d.txt\", 'rb')\n",
    "for line in f:\n",
    "    values = line.split()\n",
    "    word = values[0]\n",
    "    word = word.decode(\"utf-8\")\n",
    "    coefs = np.asarray(values[1:], dtype='float32')\n",
    "    embeddings_index[word] = coefs\n",
    "f.close()\n",
    "\n",
    "\n",
    "print('Found %s word vectors.' % len(embeddings_index))"
   ]
  },
  {
   "cell_type": "markdown",
   "metadata": {},
   "source": [
    "#### Preparing Embedding Layer"
   ]
  },
  {
   "cell_type": "code",
   "execution_count": 11,
   "metadata": {},
   "outputs": [
    {
     "name": "stdout",
     "output_type": "stream",
     "text": [
      "Preparing embedding matrix.\n"
     ]
    }
   ],
   "source": [
    "from keras.layers import Embedding\n",
    "\n",
    "print('Preparing embedding matrix.')\n",
    "\n",
    "# prepare embedding matrix\n",
    "nb_words = len(word_index)\n",
    "embedding_matrix = np.zeros((nb_words + 1, 100))\n",
    "for word, i in word_index.items():\n",
    "    embedding_vector = embeddings_index.get(word)\n",
    "    if embedding_vector is not None:\n",
    "        # words not found in embedding index will be all-zeros.\n",
    "        embedding_matrix[i] = embedding_vector\n",
    "\n",
    "\n",
    "# load pre-trained word embeddings into an Embedding layer\n",
    "# note that we set trainable = False so as to keep the embeddings fixed\n",
    "embedding_layer = Embedding(nb_words + 1,\n",
    "                            100,\n",
    "                            weights=[embedding_matrix],\n",
    "                            input_length=MAX_SEQ_LENGTH,\n",
    "                            trainable=False)"
   ]
  },
  {
   "cell_type": "markdown",
   "metadata": {},
   "source": [
    "### Defining and Training Model"
   ]
  },
  {
   "cell_type": "code",
   "execution_count": 12,
   "metadata": {},
   "outputs": [],
   "source": [
    "from keras.models import Sequential, Model\n",
    "from keras.layers.core import Activation\n",
    "from keras.layers.core import Flatten\n",
    "from keras.layers.core import Dense\n",
    "from keras.layers.core import Dropout\n",
    "from keras.preprocessing import sequence\n",
    "from keras.optimizers import *\n",
    "from keras.regularizers import l2\n",
    "from keras.layers import Dense, Input, Flatten\n",
    "from keras.layers import Dense, LSTM, SpatialDropout1D\n",
    "from keras.layers import BatchNormalization\n",
    "import keras"
   ]
  },
  {
   "cell_type": "code",
   "execution_count": 13,
   "metadata": {},
   "outputs": [
    {
     "name": "stdout",
     "output_type": "stream",
     "text": [
      "Train on 2683 samples, validate on 299 samples\n",
      "Epoch 1/50\n",
      "2683/2683 [==============================] - 2s 783us/step - loss: 1.3676 - accuracy: 0.3392 - val_loss: 1.3271 - val_accuracy: 0.4849\n",
      "Epoch 2/50\n",
      "2683/2683 [==============================] - 1s 228us/step - loss: 1.3158 - accuracy: 0.4428 - val_loss: 1.2888 - val_accuracy: 0.4916\n",
      "Epoch 3/50\n",
      "2683/2683 [==============================] - 1s 248us/step - loss: 1.2714 - accuracy: 0.4715 - val_loss: 1.2461 - val_accuracy: 0.5050\n",
      "Epoch 4/50\n",
      "2683/2683 [==============================] - 1s 248us/step - loss: 1.2411 - accuracy: 0.4845 - val_loss: 1.2072 - val_accuracy: 0.5318\n",
      "Epoch 5/50\n",
      "2683/2683 [==============================] - 1s 228us/step - loss: 1.2183 - accuracy: 0.4987 - val_loss: 1.1749 - val_accuracy: 0.5485\n",
      "Epoch 6/50\n",
      "2683/2683 [==============================] - 1s 229us/step - loss: 1.1960 - accuracy: 0.5002 - val_loss: 1.1548 - val_accuracy: 0.5652\n",
      "Epoch 7/50\n",
      "2683/2683 [==============================] - 1s 219us/step - loss: 1.1804 - accuracy: 0.5080 - val_loss: 1.1469 - val_accuracy: 0.5719\n",
      "Epoch 8/50\n",
      "2683/2683 [==============================] - 1s 272us/step - loss: 1.1740 - accuracy: 0.5091 - val_loss: 1.1295 - val_accuracy: 0.5719\n",
      "Epoch 9/50\n",
      "2683/2683 [==============================] - 1s 220us/step - loss: 1.1582 - accuracy: 0.5151 - val_loss: 1.1192 - val_accuracy: 0.5686\n",
      "Epoch 10/50\n",
      "2683/2683 [==============================] - 1s 232us/step - loss: 1.1444 - accuracy: 0.5199 - val_loss: 1.1166 - val_accuracy: 0.5719\n",
      "Epoch 11/50\n",
      "2683/2683 [==============================] - 1s 219us/step - loss: 1.1383 - accuracy: 0.5229 - val_loss: 1.1117 - val_accuracy: 0.5719\n",
      "Epoch 12/50\n",
      "2683/2683 [==============================] - 1s 241us/step - loss: 1.1274 - accuracy: 0.5240 - val_loss: 1.1074 - val_accuracy: 0.5652\n",
      "Epoch 13/50\n",
      "2683/2683 [==============================] - 1s 237us/step - loss: 1.1210 - accuracy: 0.5266 - val_loss: 1.1010 - val_accuracy: 0.5585\n",
      "Epoch 14/50\n",
      "2683/2683 [==============================] - 1s 219us/step - loss: 1.1185 - accuracy: 0.5296 - val_loss: 1.1044 - val_accuracy: 0.5753\n",
      "Epoch 15/50\n",
      "2683/2683 [==============================] - 1s 275us/step - loss: 1.1013 - accuracy: 0.5419 - val_loss: 1.1071 - val_accuracy: 0.5619\n",
      "Epoch 16/50\n",
      "2683/2683 [==============================] - 1s 236us/step - loss: 1.0952 - accuracy: 0.5498 - val_loss: 1.1031 - val_accuracy: 0.5485\n",
      "Epoch 17/50\n",
      "2683/2683 [==============================] - 1s 224us/step - loss: 1.0873 - accuracy: 0.5591 - val_loss: 1.1037 - val_accuracy: 0.5552\n",
      "Epoch 18/50\n",
      "2683/2683 [==============================] - 1s 209us/step - loss: 1.0758 - accuracy: 0.5598 - val_loss: 1.0937 - val_accuracy: 0.5585\n",
      "Epoch 19/50\n",
      "2683/2683 [==============================] - 1s 209us/step - loss: 1.0781 - accuracy: 0.5561 - val_loss: 1.0938 - val_accuracy: 0.5552\n",
      "Epoch 20/50\n",
      "2683/2683 [==============================] - 1s 199us/step - loss: 1.0628 - accuracy: 0.5609 - val_loss: 1.0877 - val_accuracy: 0.5518\n",
      "Epoch 21/50\n",
      "2683/2683 [==============================] - 1s 323us/step - loss: 1.0505 - accuracy: 0.5732 - val_loss: 1.0823 - val_accuracy: 0.5518\n",
      "Epoch 22/50\n",
      "2683/2683 [==============================] - 1s 263us/step - loss: 1.0467 - accuracy: 0.5796 - val_loss: 1.0938 - val_accuracy: 0.5518\n",
      "Epoch 23/50\n",
      "2683/2683 [==============================] - 1s 220us/step - loss: 1.0432 - accuracy: 0.5773 - val_loss: 1.0828 - val_accuracy: 0.5518\n",
      "Epoch 24/50\n",
      "2683/2683 [==============================] - 1s 211us/step - loss: 1.0414 - accuracy: 0.5788 - val_loss: 1.0846 - val_accuracy: 0.5518\n",
      "Epoch 25/50\n",
      "2683/2683 [==============================] - 1s 223us/step - loss: 1.0285 - accuracy: 0.5848 - val_loss: 1.0829 - val_accuracy: 0.5518\n",
      "Epoch 26/50\n",
      "2683/2683 [==============================] - 1s 222us/step - loss: 1.0254 - accuracy: 0.5807 - val_loss: 1.0756 - val_accuracy: 0.5485\n",
      "Epoch 27/50\n",
      "2683/2683 [==============================] - 1s 211us/step - loss: 1.0380 - accuracy: 0.5688 - val_loss: 1.0726 - val_accuracy: 0.5585\n",
      "Epoch 28/50\n",
      "2683/2683 [==============================] - 1s 220us/step - loss: 1.0219 - accuracy: 0.5829 - val_loss: 1.0674 - val_accuracy: 0.5585\n",
      "Epoch 29/50\n",
      "2683/2683 [==============================] - 1s 215us/step - loss: 1.0131 - accuracy: 0.5900 - val_loss: 1.0716 - val_accuracy: 0.5686\n",
      "Epoch 30/50\n",
      "2683/2683 [==============================] - 1s 205us/step - loss: 1.0123 - accuracy: 0.5736 - val_loss: 1.0722 - val_accuracy: 0.5686\n",
      "Epoch 31/50\n",
      "2683/2683 [==============================] - 1s 202us/step - loss: 0.9952 - accuracy: 0.5960 - val_loss: 1.0631 - val_accuracy: 0.5686\n",
      "Epoch 32/50\n",
      "2683/2683 [==============================] - 1s 211us/step - loss: 0.9921 - accuracy: 0.5963 - val_loss: 1.0643 - val_accuracy: 0.5518\n",
      "Epoch 33/50\n",
      "2683/2683 [==============================] - 1s 219us/step - loss: 0.9909 - accuracy: 0.6019 - val_loss: 1.0588 - val_accuracy: 0.5552\n",
      "Epoch 34/50\n",
      "2683/2683 [==============================] - 1s 209us/step - loss: 0.9843 - accuracy: 0.6034 - val_loss: 1.0544 - val_accuracy: 0.5552\n",
      "Epoch 35/50\n",
      "2683/2683 [==============================] - 1s 212us/step - loss: 0.9809 - accuracy: 0.6139 - val_loss: 1.0509 - val_accuracy: 0.5786\n",
      "Epoch 36/50\n",
      "2683/2683 [==============================] - 1s 206us/step - loss: 0.9847 - accuracy: 0.6165 - val_loss: 1.0493 - val_accuracy: 0.5686\n",
      "Epoch 37/50\n",
      "2683/2683 [==============================] - 1s 247us/step - loss: 0.9617 - accuracy: 0.6165 - val_loss: 1.0602 - val_accuracy: 0.5819\n",
      "Epoch 38/50\n",
      "2683/2683 [==============================] - 1s 277us/step - loss: 0.9825 - accuracy: 0.6072 - val_loss: 1.0534 - val_accuracy: 0.5819\n",
      "Epoch 39/50\n",
      "2683/2683 [==============================] - 1s 221us/step - loss: 0.9665 - accuracy: 0.6168 - val_loss: 1.0486 - val_accuracy: 0.5753\n",
      "Epoch 40/50\n",
      "2683/2683 [==============================] - 1s 250us/step - loss: 0.9582 - accuracy: 0.6336 - val_loss: 1.0478 - val_accuracy: 0.5819\n",
      "Epoch 41/50\n",
      "2683/2683 [==============================] - 1s 284us/step - loss: 0.9469 - accuracy: 0.6161 - val_loss: 1.0383 - val_accuracy: 0.5953\n",
      "Epoch 42/50\n",
      "2683/2683 [==============================] - 1s 240us/step - loss: 0.9493 - accuracy: 0.6403 - val_loss: 1.0338 - val_accuracy: 0.5987\n",
      "Epoch 43/50\n",
      "2683/2683 [==============================] - 1s 224us/step - loss: 0.9542 - accuracy: 0.6247 - val_loss: 1.0286 - val_accuracy: 0.5920\n",
      "Epoch 44/50\n",
      "2683/2683 [==============================] - 1s 246us/step - loss: 0.9468 - accuracy: 0.6299 - val_loss: 1.0233 - val_accuracy: 0.5853\n",
      "Epoch 45/50\n",
      "2683/2683 [==============================] - 1s 250us/step - loss: 0.9484 - accuracy: 0.6273 - val_loss: 1.0164 - val_accuracy: 0.5953\n",
      "Epoch 46/50\n",
      "2683/2683 [==============================] - 1s 258us/step - loss: 0.9313 - accuracy: 0.6355 - val_loss: 1.0197 - val_accuracy: 0.5886\n",
      "Epoch 47/50\n",
      "2683/2683 [==============================] - 1s 245us/step - loss: 0.9299 - accuracy: 0.6388 - val_loss: 1.0176 - val_accuracy: 0.5920\n",
      "Epoch 48/50\n",
      "2683/2683 [==============================] - 1s 217us/step - loss: 0.9315 - accuracy: 0.6400 - val_loss: 1.0040 - val_accuracy: 0.5987\n",
      "Epoch 49/50\n",
      "2683/2683 [==============================] - 1s 264us/step - loss: 0.9322 - accuracy: 0.6318 - val_loss: 1.0105 - val_accuracy: 0.5953\n",
      "Epoch 50/50\n",
      "2683/2683 [==============================] - 1s 288us/step - loss: 0.9213 - accuracy: 0.6373 - val_loss: 1.0017 - val_accuracy: 0.5987\n"
     ]
    }
   ],
   "source": [
    "# choose the model with best hyperparameter\n",
    "\n",
    "lstm_out = 10\n",
    "\n",
    "model = Sequential()\n",
    "model.add(embedding_layer)\n",
    "model.add(Dropout(0.36))\n",
    "model.add(LSTM(lstm_out, dropout= 0.36, recurrent_dropout=0.36))\n",
    "model.add(BatchNormalization())\n",
    "model.add(Dense(8,activation='softmax'))\n",
    "model.add(Dense(4,activation='softmax'))\n",
    "\n",
    "optimizer = keras.optimizers.Adam(lr=0.001)\n",
    "model.compile(loss = 'categorical_crossentropy', optimizer= optimizer, metrics = ['accuracy'])\n",
    "\n",
    "history = model.fit(x_train, y_train,  # 80% as training data\n",
    "      validation_split=0.1,\n",
    "      batch_size=64,\n",
    "      epochs=50, class_weight = class_weights)"
   ]
  },
  {
   "cell_type": "code",
   "execution_count": 14,
   "metadata": {},
   "outputs": [
    {
     "data": {
      "text/plain": [
       "['finalized_hybrid_lstm_aspect.sav']"
      ]
     },
     "execution_count": 14,
     "metadata": {},
     "output_type": "execute_result"
    }
   ],
   "source": [
    "import joblib\n",
    "filename = 'finalized_hybrid_lstm_aspect.sav'\n",
    "joblib.dump(model, filename)"
   ]
  },
  {
   "cell_type": "code",
   "execution_count": 15,
   "metadata": {},
   "outputs": [],
   "source": [
    "# import scikit-learn svc\n",
    "from sklearn.model_selection import *\n",
    "from sklearn.svm import SVC\n",
    "from sklearn.metrics import classification_report\n",
    "from sklearn.metrics import accuracy_score, r2_score\n",
    "\n",
    "from sklearn.pipeline import make_pipeline\n",
    "from sklearn.preprocessing import StandardScaler\n",
    "import matplotlib.pyplot as plt"
   ]
  },
  {
   "cell_type": "code",
   "execution_count": 16,
   "metadata": {},
   "outputs": [],
   "source": [
    "\n",
    "# extracing \n",
    "outputs = []\n",
    "test_outputs = []\n",
    "for i in range(3, 4):\n",
    "    layer = model.layers[i]\n",
    "    keras_function = K.function([model.input], [layer.output])\n",
    "    outputs.append(keras_function([x_train, 1]))\n",
    "    test_outputs.append(keras_function([x_test, 1]))"
   ]
  },
  {
   "cell_type": "code",
   "execution_count": 17,
   "metadata": {},
   "outputs": [
    {
     "data": {
      "text/plain": [
       "[[array([[-1.19888   , -0.11356947,  1.3258862 , ...,  1.5387826 ,\n",
       "           1.0630138 ,  1.8872415 ],\n",
       "         [-1.4313204 , -0.10613298,  1.3198662 , ...,  1.5109174 ,\n",
       "           1.3209994 ,  1.9680167 ],\n",
       "         [-1.2400427 , -0.00472283,  1.0187469 , ...,  0.71923274,\n",
       "           0.7128395 ,  0.09538423],\n",
       "         ...,\n",
       "         [-1.0883331 , -0.01495156, -0.38098383, ..., -0.764333  ,\n",
       "           0.8107233 ,  1.6966351 ],\n",
       "         [-1.2690544 ,  0.6729776 ,  0.8600092 , ...,  0.48117143,\n",
       "           0.6192038 , -0.30581608],\n",
       "         [-1.2690542 ,  0.6729781 ,  0.8600092 , ...,  0.48117143,\n",
       "           0.6192038 , -0.30581632]], dtype=float32)]]"
      ]
     },
     "execution_count": 17,
     "metadata": {},
     "output_type": "execute_result"
    }
   ],
   "source": [
    "test_outputs"
   ]
  },
  {
   "cell_type": "code",
   "execution_count": 18,
   "metadata": {},
   "outputs": [],
   "source": [
    "# import scikit-learn's scaler\n",
    "from sklearn import preprocessing\n",
    "mm_scaler = preprocessing.MinMaxScaler()\n",
    "svm_asp_train = np.array(outputs)\n",
    "svm_asp_test = np.array(test_outputs)\n",
    "\n",
    "# svm_asp_train : aspect training data for svm classifier\n",
    "reshaped_svm_asp_train = np.reshape(svm_asp_train, (train_limit * 10))\n",
    "svm_asp_train = np.reshape(reshaped_svm_asp_train, (train_limit, 10))\n",
    "\n",
    "# svm_asp_test : aspect testing data for svm classifier\n",
    "reshaped_svm_asp_test = np.reshape(svm_asp_test, ((test_limit - train_limit) * 10))\n",
    "svm_asp_test = np.reshape(reshaped_svm_asp_test, ((test_limit - train_limit), 10))"
   ]
  },
  {
   "cell_type": "code",
   "execution_count": 19,
   "metadata": {},
   "outputs": [
    {
     "name": "stdout",
     "output_type": "stream",
     "text": [
      "[[0. 0. 1. 0.]\n",
      " [0. 0. 0. 1.]\n",
      " [0. 0. 0. 1.]\n",
      " ...\n",
      " [0. 1. 0. 0.]\n",
      " [0. 0. 1. 0.]\n",
      " [0. 1. 0. 0.]]\n"
     ]
    }
   ],
   "source": [
    "# decode onehot_encoded \n",
    "print(y_train)\n",
    "y_labels = np.argmax(y_train, axis = 1)\n",
    "y_test_labels = np.argmax(y_test, axis = 1)"
   ]
  },
  {
   "cell_type": "code",
   "execution_count": 20,
   "metadata": {},
   "outputs": [],
   "source": [
    "best_acc_for_each = []\n",
    "best_c_for_each = []"
   ]
  },
  {
   "cell_type": "code",
   "execution_count": 46,
   "metadata": {},
   "outputs": [],
   "source": [
    "# run 1a : \n",
    "# kernel = \"rbf\"\n",
    "# scaler : minmax\n",
    "# c : 1 to 70 \n",
    "\n",
    "# multiple runs of rbf kernel with different C scaled with minmaxscaler\n",
    "acc = []\n",
    "acc_val = []\n",
    "for i in range(1, 71):\n",
    "    svm = make_pipeline(mm_scaler, SVC(C = i, kernel = 'rbf', gamma=\"auto\"))\n",
    "    svm.fit(svm_asp_train, y_labels)\n",
    "    svm.predict(svm_asp_test)\n",
    "    acc.append(svm.score(svm_asp_test, y_test_labels, sample_weight=None))\n",
    "best_acc_for_each.append(max(acc))\n",
    "best_c_for_each.append(acc.index(max(acc)))"
   ]
  },
  {
   "cell_type": "code",
   "execution_count": 47,
   "metadata": {},
   "outputs": [
    {
     "name": "stdout",
     "output_type": "stream",
     "text": [
      "0.702013422818792\n",
      "0.6993288590604027\n",
      "0.697986577181208\n"
     ]
    }
   ],
   "source": [
    "print(acc[0])\n",
    "print(acc[29])\n",
    "print(acc[69])"
   ]
  },
  {
   "cell_type": "code",
   "execution_count": 23,
   "metadata": {},
   "outputs": [
    {
     "name": "stdout",
     "output_type": "stream",
     "text": [
      "Maximum accuracy is first attained at C : 0\n"
     ]
    },
    {
     "data": {
      "image/png": "[encoded data removed]",
      "text/plain": [
       "<Figure size 432x288 with 1 Axes>"
      ]
     },
     "metadata": {
      "needs_background": "light"
     },
     "output_type": "display_data"
    }
   ],
   "source": [
    "# plot accuracy for multiple runs of rbf kernel with different C scaled with minmaxscaler\n",
    "x = list(range(70))\n",
    "y = acc\n",
    "plt.plot(x,y)\n",
    "plt.xlabel(\"C\", size=14)\n",
    "plt.ylabel(\"test accuracy\", size=14)\n",
    "plt.title('SVM \"rbf\" kernel test accuracy by C (minmax)', size=16)\n",
    "print(\"Maximum accuracy is first attained at C : \" + str(acc.index(max(acc))))"
   ]
  },
  {
   "cell_type": "code",
   "execution_count": 48,
   "metadata": {},
   "outputs": [],
   "source": [
    "# run 1b : \n",
    "# kernel = \"linear\"\n",
    "# scaler : minmax\n",
    "# c : 1 to 70 \n",
    "\n",
    "# multiple runs of linear kernel with different C scaled with minmaxscaler\n",
    "acc = []\n",
    "for i in range(1, 71):\n",
    "    svm = make_pipeline(mm_scaler, SVC(C = i, kernel = 'linear', gamma=\"auto\"))\n",
    "    svm.fit(svm_asp_train, y_labels)\n",
    "    svm.predict(svm_asp_test)\n",
    "    acc.append(svm.score(svm_asp_test, y_test_labels, sample_weight=None))\n",
    "best_acc_for_each.append(max(acc))\n",
    "best_c_for_each.append(acc.index(max(acc)))"
   ]
  },
  {
   "cell_type": "code",
   "execution_count": 49,
   "metadata": {},
   "outputs": [
    {
     "name": "stdout",
     "output_type": "stream",
     "text": [
      "0.6926174496644295\n",
      "0.6912751677852349\n",
      "0.6926174496644295\n"
     ]
    }
   ],
   "source": [
    "print(acc[0])\n",
    "print(acc[29])\n",
    "print(acc[69])"
   ]
  },
  {
   "cell_type": "code",
   "execution_count": 26,
   "metadata": {},
   "outputs": [
    {
     "name": "stdout",
     "output_type": "stream",
     "text": [
      "Maximum accuracy is first attained at C : 2\n"
     ]
    },
    {
     "data": {
      "image/png": "[encoded data removed]",
      "text/plain": [
       "<Figure size 432x288 with 1 Axes>"
      ]
     },
     "metadata": {
      "needs_background": "light"
     },
     "output_type": "display_data"
    }
   ],
   "source": [
    "# plot accuracy for multiple runs of linear kernel with different C scaled with minmaxscaler\n",
    "x = list(range(70))\n",
    "y = acc\n",
    "plt.plot(x,y)\n",
    "plt.xlabel(\"C\", size=14)\n",
    "plt.ylabel(\"test accuracy\", size=14)\n",
    "plt.title('SVM \"linear\" kernel test accuracy by C (minmax)', size=16)\n",
    "print(\"Maximum accuracy is first attained at C : \" + str(acc.index(max(acc))))"
   ]
  },
  {
   "cell_type": "code",
   "execution_count": null,
   "metadata": {},
   "outputs": [],
   "source": []
  },
  {
   "cell_type": "code",
   "execution_count": 27,
   "metadata": {},
   "outputs": [],
   "source": [
    "# run 1c : \n",
    "# kernel = \"rbf\"\n",
    "# scaler : standard\n",
    "# c : 1 to 70 \n",
    "\n",
    "# multiple runs of rbf kernel with different C scaled with StandardScaler\n",
    "acc = []\n",
    "for i in range(1, 71):\n",
    "    svm2 = make_pipeline(StandardScaler(), SVC(C = i, kernel = 'rbf', gamma=\"auto\"))\n",
    "    svm2.fit(svm_asp_train, y_labels)\n",
    "    svm2.predict(svm_asp_test)\n",
    "    acc.append(svm2.score(svm_asp_test, y_test_labels, sample_weight=None))\n",
    "best_acc_for_each.append(max(acc))\n",
    "best_c_for_each.append(acc.index(max(acc)))"
   ]
  },
  {
   "cell_type": "code",
   "execution_count": 28,
   "metadata": {},
   "outputs": [
    {
     "name": "stdout",
     "output_type": "stream",
     "text": [
      "0.6939597315436241\n",
      "0.6832214765100671\n",
      "0.6738255033557047\n"
     ]
    }
   ],
   "source": [
    "print(acc[0])\n",
    "print(acc[29])\n",
    "print(acc[69])"
   ]
  },
  {
   "cell_type": "code",
   "execution_count": 29,
   "metadata": {},
   "outputs": [
    {
     "name": "stdout",
     "output_type": "stream",
     "text": [
      "Maximum accuracy is first attained at C : 0\n"
     ]
    },
    {
     "data": {
      "image/png": "[encoded data removed]",
      "text/plain": [
       "<Figure size 432x288 with 1 Axes>"
      ]
     },
     "metadata": {
      "needs_background": "light"
     },
     "output_type": "display_data"
    }
   ],
   "source": [
    "# plot accuracy for multiple runs of rbf kernel with different C scaled with StandardScaler\n",
    "x = list(range(70))\n",
    "y = acc\n",
    "plt.plot(x,y)\n",
    "plt.xlabel(\"C\", size=14)\n",
    "plt.ylabel(\"test accuracy\", size=14)\n",
    "plt.title('SVM \"rbf\" kernel test accuracy by C (standard)', size=16)\n",
    "print(\"Maximum accuracy is first attained at C : \" + str(acc.index(max(acc))))"
   ]
  },
  {
   "cell_type": "code",
   "execution_count": 30,
   "metadata": {},
   "outputs": [],
   "source": [
    "# run 1d : \n",
    "# kernel = \"linear\"\n",
    "# scaler : standard\n",
    "# c : 1 to 70 \n",
    "\n",
    "# multiple runs of linear kernel with different C scaled with StandardScaler\n",
    "acc = []\n",
    "for i in range(1, 71):\n",
    "    svm = make_pipeline(StandardScaler(), SVC(C = i, kernel = 'linear', gamma=\"auto\"))\n",
    "    svm.fit(svm_asp_train, y_labels)\n",
    "    svm.predict(svm_asp_test)\n",
    "    acc.append(svm.score(svm_asp_test, y_test_labels, sample_weight=None))\n",
    "best_acc_for_each.append(max(acc))\n",
    "best_c_for_each.append(acc.index(max(acc)))"
   ]
  },
  {
   "cell_type": "code",
   "execution_count": 31,
   "metadata": {},
   "outputs": [
    {
     "name": "stdout",
     "output_type": "stream",
     "text": [
      "0.6912751677852349\n",
      "0.6912751677852349\n",
      "0.6912751677852349\n"
     ]
    }
   ],
   "source": [
    "print(acc[0])\n",
    "print(acc[29])\n",
    "print(acc[69])"
   ]
  },
  {
   "cell_type": "code",
   "execution_count": 32,
   "metadata": {},
   "outputs": [
    {
     "name": "stdout",
     "output_type": "stream",
     "text": [
      "Maximum accuracy is first attained at C : 1\n"
     ]
    },
    {
     "data": {
      "image/png": "[encoded data removed]",
      "text/plain": [
       "<Figure size 432x288 with 1 Axes>"
      ]
     },
     "metadata": {
      "needs_background": "light"
     },
     "output_type": "display_data"
    }
   ],
   "source": [
    "# plot accuracy for multiple runs of linear kernel with different C scaled with StandardScaler\n",
    "x = list(range(70))\n",
    "y = acc\n",
    "plt.plot(x,y)\n",
    "plt.xlabel(\"C\", size=14)\n",
    "plt.ylabel(\"test accuracy\", size=14)\n",
    "plt.title('SVM \"linear\" kernel test accuracy by C (standard)', size=16)\n",
    "print(\"Maximum accuracy is first attained at C : \" + str(acc.index(max(acc))))\n",
    "\n",
    "# till here "
   ]
  },
  {
   "cell_type": "code",
   "execution_count": 33,
   "metadata": {},
   "outputs": [
    {
     "name": "stdout",
     "output_type": "stream",
     "text": [
      "0.702013422818792\n"
     ]
    }
   ],
   "source": [
    "all_options = [[mm_scaler, 'rbf'], [mm_scaler, 'linear'], [StandardScaler(), 'rbf'], [StandardScaler(), 'linear']]\n",
    "optimum_model = all_options[best_acc_for_each.index(max(best_acc_for_each))]\n",
    "optimum_c = best_c_for_each[best_acc_for_each.index(max(best_acc_for_each))]\n",
    "\n",
    "chosen = make_pipeline(optimum_model[0], SVC(C = optimum_c + 1, kernel = optimum_model[1], gamma=\"auto\"))\n",
    "chosen.fit(svm_asp_train, y_labels)\n",
    "res = chosen.predict(svm_asp_test)\n",
    "print(chosen.score(svm_asp_test, y_test_labels, sample_weight=None))"
   ]
  },
  {
   "cell_type": "code",
   "execution_count": 34,
   "metadata": {},
   "outputs": [
    {
     "name": "stdout",
     "output_type": "stream",
     "text": [
      "['FOOD#QUALITY' 'FOOD#QUALITY' 'FOOD#QUALITY' 'SERVICE#GENERAL'\n",
      " 'FOOD#QUALITY' 'FOOD#QUALITY' 'FOOD#QUALITY' 'FOOD#QUALITY'\n",
      " 'FOOD#QUALITY' 'FOOD#QUALITY' 'FOOD#QUALITY' 'FOOD#QUALITY'\n",
      " 'FOOD#QUALITY' 'FOOD#QUALITY' 'FOOD#QUALITY' 'FOOD#QUALITY'\n",
      " 'FOOD#QUALITY' 'FOOD#QUALITY' 'FOOD#QUALITY' 'FOOD#QUALITY'\n",
      " 'FOOD#QUALITY' 'FOOD#QUALITY' 'FOOD#QUALITY' 'SERVICE#GENERAL'\n",
      " 'RESTAURANT#GENERAL' 'RESTAURANT#GENERAL' 'SERVICE#GENERAL'\n",
      " 'SERVICE#GENERAL' 'FOOD#QUALITY' 'AMBIENCE#GENERAL' 'RESTAURANT#GENERAL'\n",
      " 'RESTAURANT#GENERAL' 'SERVICE#GENERAL' 'AMBIENCE#GENERAL'\n",
      " 'AMBIENCE#GENERAL' 'AMBIENCE#GENERAL' 'AMBIENCE#GENERAL'\n",
      " 'SERVICE#GENERAL' 'FOOD#QUALITY' 'FOOD#QUALITY' 'FOOD#QUALITY'\n",
      " 'FOOD#QUALITY' 'FOOD#QUALITY' 'AMBIENCE#GENERAL' 'FOOD#QUALITY'\n",
      " 'FOOD#QUALITY' 'FOOD#QUALITY' 'FOOD#QUALITY' 'FOOD#QUALITY'\n",
      " 'FOOD#QUALITY' 'FOOD#QUALITY' 'AMBIENCE#GENERAL' 'FOOD#QUALITY'\n",
      " 'FOOD#QUALITY' 'FOOD#QUALITY' 'FOOD#QUALITY' 'FOOD#QUALITY'\n",
      " 'FOOD#QUALITY' 'FOOD#QUALITY' 'SERVICE#GENERAL' 'FOOD#QUALITY'\n",
      " 'FOOD#QUALITY' 'FOOD#QUALITY' 'FOOD#QUALITY' 'FOOD#QUALITY'\n",
      " 'FOOD#QUALITY' 'RESTAURANT#GENERAL' 'FOOD#QUALITY' 'RESTAURANT#GENERAL'\n",
      " 'FOOD#QUALITY' 'SERVICE#GENERAL' 'SERVICE#GENERAL' 'FOOD#QUALITY'\n",
      " 'FOOD#QUALITY' 'FOOD#QUALITY' 'RESTAURANT#GENERAL' 'SERVICE#GENERAL'\n",
      " 'SERVICE#GENERAL' 'FOOD#QUALITY' 'FOOD#QUALITY' 'FOOD#QUALITY'\n",
      " 'FOOD#QUALITY' 'FOOD#QUALITY' 'FOOD#QUALITY' 'FOOD#QUALITY'\n",
      " 'FOOD#QUALITY' 'FOOD#QUALITY' 'FOOD#QUALITY' 'FOOD#QUALITY'\n",
      " 'FOOD#QUALITY' 'FOOD#QUALITY' 'FOOD#QUALITY' 'FOOD#QUALITY'\n",
      " 'FOOD#QUALITY' 'FOOD#QUALITY' 'FOOD#QUALITY' 'FOOD#QUALITY'\n",
      " 'FOOD#QUALITY' 'FOOD#QUALITY' 'FOOD#QUALITY' 'FOOD#QUALITY'\n",
      " 'FOOD#QUALITY' 'FOOD#QUALITY' 'FOOD#QUALITY' 'FOOD#QUALITY'\n",
      " 'FOOD#QUALITY' 'FOOD#QUALITY' 'FOOD#QUALITY' 'FOOD#QUALITY'\n",
      " 'FOOD#QUALITY' 'SERVICE#GENERAL' 'SERVICE#GENERAL' 'SERVICE#GENERAL'\n",
      " 'FOOD#QUALITY' 'FOOD#QUALITY' 'FOOD#QUALITY' 'FOOD#QUALITY'\n",
      " 'FOOD#QUALITY' 'FOOD#QUALITY' 'RESTAURANT#GENERAL' 'FOOD#QUALITY'\n",
      " 'RESTAURANT#GENERAL' 'FOOD#QUALITY' 'RESTAURANT#GENERAL' 'FOOD#QUALITY'\n",
      " 'FOOD#QUALITY' 'FOOD#QUALITY' 'FOOD#QUALITY' 'FOOD#QUALITY'\n",
      " 'FOOD#QUALITY' 'SERVICE#GENERAL' 'FOOD#QUALITY' 'FOOD#QUALITY'\n",
      " 'FOOD#QUALITY' 'FOOD#QUALITY' 'FOOD#QUALITY' 'FOOD#QUALITY'\n",
      " 'SERVICE#GENERAL' 'FOOD#QUALITY' 'FOOD#QUALITY' 'FOOD#QUALITY'\n",
      " 'FOOD#QUALITY' 'FOOD#QUALITY' 'FOOD#QUALITY' 'SERVICE#GENERAL'\n",
      " 'FOOD#QUALITY' 'FOOD#QUALITY' 'FOOD#QUALITY' 'FOOD#QUALITY'\n",
      " 'FOOD#QUALITY' 'FOOD#QUALITY' 'AMBIENCE#GENERAL' 'FOOD#QUALITY'\n",
      " 'AMBIENCE#GENERAL' 'AMBIENCE#GENERAL' 'AMBIENCE#GENERAL' 'FOOD#QUALITY'\n",
      " 'FOOD#QUALITY' 'AMBIENCE#GENERAL' 'AMBIENCE#GENERAL' 'AMBIENCE#GENERAL'\n",
      " 'FOOD#QUALITY' 'FOOD#QUALITY' 'AMBIENCE#GENERAL' 'AMBIENCE#GENERAL'\n",
      " 'AMBIENCE#GENERAL' 'FOOD#QUALITY' 'FOOD#QUALITY' 'FOOD#QUALITY'\n",
      " 'FOOD#QUALITY' 'FOOD#QUALITY' 'FOOD#QUALITY' 'AMBIENCE#GENERAL'\n",
      " 'AMBIENCE#GENERAL' 'AMBIENCE#GENERAL' 'FOOD#QUALITY' 'RESTAURANT#GENERAL'\n",
      " 'FOOD#QUALITY' 'FOOD#QUALITY' 'AMBIENCE#GENERAL' 'AMBIENCE#GENERAL'\n",
      " 'FOOD#QUALITY' 'FOOD#QUALITY' 'FOOD#QUALITY' 'FOOD#QUALITY'\n",
      " 'FOOD#QUALITY' 'FOOD#QUALITY' 'RESTAURANT#GENERAL' 'FOOD#QUALITY'\n",
      " 'FOOD#QUALITY' 'FOOD#QUALITY' 'RESTAURANT#GENERAL' 'FOOD#QUALITY'\n",
      " 'RESTAURANT#GENERAL' 'RESTAURANT#GENERAL' 'FOOD#QUALITY' 'FOOD#QUALITY'\n",
      " 'SERVICE#GENERAL' 'FOOD#QUALITY' 'FOOD#QUALITY' 'FOOD#QUALITY'\n",
      " 'FOOD#QUALITY' 'FOOD#QUALITY' 'FOOD#QUALITY' 'FOOD#QUALITY'\n",
      " 'SERVICE#GENERAL' 'SERVICE#GENERAL' 'FOOD#QUALITY' 'FOOD#QUALITY'\n",
      " 'FOOD#QUALITY' 'SERVICE#GENERAL' 'SERVICE#GENERAL' 'RESTAURANT#GENERAL'\n",
      " 'SERVICE#GENERAL' 'FOOD#QUALITY' 'FOOD#QUALITY' 'FOOD#QUALITY'\n",
      " 'AMBIENCE#GENERAL' 'AMBIENCE#GENERAL' 'AMBIENCE#GENERAL'\n",
      " 'AMBIENCE#GENERAL' 'AMBIENCE#GENERAL' 'AMBIENCE#GENERAL' 'FOOD#QUALITY'\n",
      " 'AMBIENCE#GENERAL' 'AMBIENCE#GENERAL' 'AMBIENCE#GENERAL'\n",
      " 'AMBIENCE#GENERAL' 'AMBIENCE#GENERAL' 'AMBIENCE#GENERAL' 'FOOD#QUALITY'\n",
      " 'AMBIENCE#GENERAL' 'AMBIENCE#GENERAL' 'AMBIENCE#GENERAL'\n",
      " 'AMBIENCE#GENERAL' 'AMBIENCE#GENERAL' 'AMBIENCE#GENERAL'\n",
      " 'RESTAURANT#GENERAL' 'FOOD#QUALITY' 'RESTAURANT#GENERAL'\n",
      " 'SERVICE#GENERAL' 'SERVICE#GENERAL' 'RESTAURANT#GENERAL'\n",
      " 'RESTAURANT#GENERAL' 'FOOD#QUALITY' 'SERVICE#GENERAL' 'FOOD#QUALITY'\n",
      " 'FOOD#QUALITY' 'FOOD#QUALITY' 'FOOD#QUALITY' 'FOOD#QUALITY'\n",
      " 'FOOD#QUALITY' 'FOOD#QUALITY' 'FOOD#QUALITY' 'SERVICE#GENERAL'\n",
      " 'AMBIENCE#GENERAL' 'SERVICE#GENERAL' 'AMBIENCE#GENERAL'\n",
      " 'AMBIENCE#GENERAL' 'AMBIENCE#GENERAL' 'SERVICE#GENERAL'\n",
      " 'AMBIENCE#GENERAL' 'SERVICE#GENERAL' 'AMBIENCE#GENERAL'\n",
      " 'AMBIENCE#GENERAL' 'AMBIENCE#GENERAL' 'SERVICE#GENERAL' 'FOOD#QUALITY'\n",
      " 'FOOD#QUALITY' 'FOOD#QUALITY' 'FOOD#QUALITY' 'SERVICE#GENERAL'\n",
      " 'SERVICE#GENERAL' 'SERVICE#GENERAL' 'SERVICE#GENERAL' 'SERVICE#GENERAL'\n",
      " 'SERVICE#GENERAL' 'SERVICE#GENERAL' 'SERVICE#GENERAL' 'FOOD#QUALITY'\n",
      " 'FOOD#QUALITY' 'SERVICE#GENERAL' 'FOOD#QUALITY' 'RESTAURANT#GENERAL'\n",
      " 'AMBIENCE#GENERAL' 'AMBIENCE#GENERAL' 'FOOD#QUALITY' 'FOOD#QUALITY'\n",
      " 'FOOD#QUALITY' 'FOOD#QUALITY' 'FOOD#QUALITY' 'FOOD#QUALITY'\n",
      " 'FOOD#QUALITY' 'FOOD#QUALITY' 'FOOD#QUALITY' 'RESTAURANT#GENERAL'\n",
      " 'RESTAURANT#GENERAL' 'FOOD#QUALITY' 'FOOD#QUALITY' 'FOOD#QUALITY'\n",
      " 'FOOD#QUALITY' 'AMBIENCE#GENERAL' 'RESTAURANT#GENERAL'\n",
      " 'RESTAURANT#GENERAL' 'FOOD#QUALITY' 'FOOD#QUALITY' 'FOOD#QUALITY'\n",
      " 'FOOD#QUALITY' 'FOOD#QUALITY' 'FOOD#QUALITY' 'FOOD#QUALITY'\n",
      " 'FOOD#QUALITY' 'FOOD#QUALITY' 'FOOD#QUALITY' 'AMBIENCE#GENERAL'\n",
      " 'AMBIENCE#GENERAL' 'AMBIENCE#GENERAL' 'AMBIENCE#GENERAL'\n",
      " 'AMBIENCE#GENERAL' 'AMBIENCE#GENERAL' 'AMBIENCE#GENERAL'\n",
      " 'AMBIENCE#GENERAL' 'SERVICE#GENERAL' 'FOOD#QUALITY' 'FOOD#QUALITY'\n",
      " 'AMBIENCE#GENERAL' 'FOOD#QUALITY' 'FOOD#QUALITY' 'FOOD#QUALITY'\n",
      " 'FOOD#QUALITY' 'FOOD#QUALITY' 'FOOD#QUALITY' 'RESTAURANT#GENERAL'\n",
      " 'FOOD#QUALITY' 'FOOD#QUALITY' 'FOOD#QUALITY' 'AMBIENCE#GENERAL'\n",
      " 'SERVICE#GENERAL' 'AMBIENCE#GENERAL' 'AMBIENCE#GENERAL' 'SERVICE#GENERAL'\n",
      " 'AMBIENCE#GENERAL' 'FOOD#QUALITY' 'FOOD#QUALITY' 'FOOD#QUALITY'\n",
      " 'FOOD#QUALITY' 'FOOD#QUALITY' 'FOOD#QUALITY' 'RESTAURANT#GENERAL'\n",
      " 'FOOD#QUALITY' 'FOOD#QUALITY' 'RESTAURANT#GENERAL' 'RESTAURANT#GENERAL'\n",
      " 'FOOD#QUALITY' 'FOOD#QUALITY' 'FOOD#QUALITY' 'FOOD#QUALITY'\n",
      " 'FOOD#QUALITY' 'FOOD#QUALITY' 'FOOD#QUALITY' 'FOOD#QUALITY'\n",
      " 'FOOD#QUALITY' 'FOOD#QUALITY' 'RESTAURANT#GENERAL' 'FOOD#QUALITY'\n",
      " 'FOOD#QUALITY' 'SERVICE#GENERAL' 'FOOD#QUALITY' 'SERVICE#GENERAL'\n",
      " 'RESTAURANT#GENERAL' 'SERVICE#GENERAL' 'AMBIENCE#GENERAL' 'FOOD#QUALITY'\n",
      " 'SERVICE#GENERAL' 'SERVICE#GENERAL' 'SERVICE#GENERAL' 'SERVICE#GENERAL'\n",
      " 'SERVICE#GENERAL' 'SERVICE#GENERAL' 'RESTAURANT#GENERAL' 'FOOD#QUALITY'\n",
      " 'FOOD#QUALITY' 'RESTAURANT#GENERAL' 'FOOD#QUALITY' 'FOOD#QUALITY'\n",
      " 'FOOD#QUALITY' 'FOOD#QUALITY' 'FOOD#QUALITY' 'FOOD#QUALITY'\n",
      " 'FOOD#QUALITY' 'RESTAURANT#GENERAL' 'RESTAURANT#GENERAL' 'FOOD#QUALITY'\n",
      " 'FOOD#QUALITY' 'FOOD#QUALITY' 'FOOD#QUALITY' 'FOOD#QUALITY'\n",
      " 'FOOD#QUALITY' 'FOOD#QUALITY' 'FOOD#QUALITY' 'FOOD#QUALITY'\n",
      " 'FOOD#QUALITY' 'SERVICE#GENERAL' 'RESTAURANT#GENERAL' 'AMBIENCE#GENERAL'\n",
      " 'FOOD#QUALITY' 'FOOD#QUALITY' 'FOOD#QUALITY' 'FOOD#QUALITY'\n",
      " 'FOOD#QUALITY' 'FOOD#QUALITY' 'RESTAURANT#GENERAL' 'RESTAURANT#GENERAL'\n",
      " 'FOOD#QUALITY' 'FOOD#QUALITY' 'FOOD#QUALITY' 'FOOD#QUALITY'\n",
      " 'FOOD#QUALITY' 'FOOD#QUALITY' 'FOOD#QUALITY' 'FOOD#QUALITY'\n",
      " 'FOOD#QUALITY' 'FOOD#QUALITY' 'FOOD#QUALITY' 'RESTAURANT#GENERAL'\n",
      " 'RESTAURANT#GENERAL' 'FOOD#QUALITY' 'FOOD#QUALITY' 'FOOD#QUALITY'\n",
      " 'FOOD#QUALITY' 'FOOD#QUALITY' 'FOOD#QUALITY' 'FOOD#QUALITY'\n",
      " 'FOOD#QUALITY' 'FOOD#QUALITY' 'FOOD#QUALITY' 'FOOD#QUALITY'\n",
      " 'RESTAURANT#GENERAL' 'FOOD#QUALITY' 'FOOD#QUALITY' 'FOOD#QUALITY'\n",
      " 'RESTAURANT#GENERAL' 'FOOD#QUALITY' 'FOOD#QUALITY' 'FOOD#QUALITY'\n",
      " 'FOOD#QUALITY' 'FOOD#QUALITY' 'RESTAURANT#GENERAL' 'FOOD#QUALITY'\n",
      " 'FOOD#QUALITY' 'FOOD#QUALITY' 'RESTAURANT#GENERAL' 'FOOD#QUALITY'\n",
      " 'FOOD#QUALITY' 'SERVICE#GENERAL' 'SERVICE#GENERAL' 'FOOD#QUALITY'\n",
      " 'FOOD#QUALITY' 'SERVICE#GENERAL' 'RESTAURANT#GENERAL' 'SERVICE#GENERAL'\n",
      " 'SERVICE#GENERAL' 'AMBIENCE#GENERAL' 'SERVICE#GENERAL'\n",
      " 'RESTAURANT#GENERAL' 'RESTAURANT#GENERAL' 'SERVICE#GENERAL'\n",
      " 'SERVICE#GENERAL' 'AMBIENCE#GENERAL' 'SERVICE#GENERAL'\n",
      " 'RESTAURANT#GENERAL' 'FOOD#QUALITY' 'FOOD#QUALITY' 'RESTAURANT#GENERAL'\n",
      " 'RESTAURANT#GENERAL' 'FOOD#QUALITY' 'FOOD#QUALITY' 'FOOD#QUALITY'\n",
      " 'FOOD#QUALITY' 'FOOD#QUALITY' 'RESTAURANT#GENERAL' 'RESTAURANT#GENERAL'\n",
      " 'SERVICE#GENERAL' 'SERVICE#GENERAL' 'FOOD#QUALITY' 'FOOD#QUALITY'\n",
      " 'FOOD#QUALITY' 'FOOD#QUALITY' 'FOOD#QUALITY' 'FOOD#QUALITY'\n",
      " 'RESTAURANT#GENERAL' 'FOOD#QUALITY' 'FOOD#QUALITY' 'FOOD#QUALITY'\n",
      " 'FOOD#QUALITY' 'FOOD#QUALITY' 'FOOD#QUALITY' 'SERVICE#GENERAL'\n",
      " 'FOOD#QUALITY' 'SERVICE#GENERAL' 'SERVICE#GENERAL' 'FOOD#QUALITY'\n",
      " 'SERVICE#GENERAL' 'FOOD#QUALITY' 'SERVICE#GENERAL' 'SERVICE#GENERAL'\n",
      " 'FOOD#QUALITY' 'SERVICE#GENERAL' 'FOOD#QUALITY' 'SERVICE#GENERAL'\n",
      " 'SERVICE#GENERAL' 'FOOD#QUALITY' 'FOOD#QUALITY' 'FOOD#QUALITY'\n",
      " 'FOOD#QUALITY' 'SERVICE#GENERAL' 'FOOD#QUALITY' 'FOOD#QUALITY'\n",
      " 'SERVICE#GENERAL' 'FOOD#QUALITY' 'FOOD#QUALITY' 'FOOD#QUALITY'\n",
      " 'FOOD#QUALITY' 'FOOD#QUALITY' 'FOOD#QUALITY' 'FOOD#QUALITY'\n",
      " 'FOOD#QUALITY' 'FOOD#QUALITY' 'FOOD#QUALITY' 'FOOD#QUALITY'\n",
      " 'FOOD#QUALITY' 'FOOD#QUALITY' 'FOOD#QUALITY' 'FOOD#QUALITY'\n",
      " 'RESTAURANT#GENERAL' 'FOOD#QUALITY' 'FOOD#QUALITY' 'FOOD#QUALITY'\n",
      " 'FOOD#QUALITY' 'FOOD#QUALITY' 'FOOD#QUALITY' 'FOOD#QUALITY'\n",
      " 'FOOD#QUALITY' 'FOOD#QUALITY' 'FOOD#QUALITY' 'FOOD#QUALITY'\n",
      " 'FOOD#QUALITY' 'SERVICE#GENERAL' 'SERVICE#GENERAL' 'SERVICE#GENERAL'\n",
      " 'RESTAURANT#GENERAL' 'SERVICE#GENERAL' 'SERVICE#GENERAL'\n",
      " 'SERVICE#GENERAL' 'SERVICE#GENERAL' 'FOOD#QUALITY' 'FOOD#QUALITY'\n",
      " 'FOOD#QUALITY' 'FOOD#QUALITY' 'FOOD#QUALITY' 'AMBIENCE#GENERAL'\n",
      " 'SERVICE#GENERAL' 'SERVICE#GENERAL' 'SERVICE#GENERAL' 'SERVICE#GENERAL'\n",
      " 'FOOD#QUALITY' 'RESTAURANT#GENERAL' 'AMBIENCE#GENERAL' 'AMBIENCE#GENERAL'\n",
      " 'SERVICE#GENERAL' 'SERVICE#GENERAL' 'SERVICE#GENERAL' 'SERVICE#GENERAL'\n",
      " 'SERVICE#GENERAL' 'SERVICE#GENERAL' 'SERVICE#GENERAL'\n",
      " 'RESTAURANT#GENERAL' 'FOOD#QUALITY' 'FOOD#QUALITY' 'FOOD#QUALITY'\n",
      " 'RESTAURANT#GENERAL' 'FOOD#QUALITY' 'FOOD#QUALITY' 'FOOD#QUALITY'\n",
      " 'FOOD#QUALITY' 'FOOD#QUALITY' 'FOOD#QUALITY' 'FOOD#QUALITY'\n",
      " 'FOOD#QUALITY' 'FOOD#QUALITY' 'RESTAURANT#GENERAL' 'FOOD#QUALITY'\n",
      " 'FOOD#QUALITY' 'SERVICE#GENERAL' 'SERVICE#GENERAL' 'FOOD#QUALITY'\n",
      " 'FOOD#QUALITY' 'FOOD#QUALITY' 'FOOD#QUALITY' 'FOOD#QUALITY'\n",
      " 'FOOD#QUALITY' 'SERVICE#GENERAL' 'AMBIENCE#GENERAL' 'FOOD#QUALITY'\n",
      " 'FOOD#QUALITY' 'FOOD#QUALITY' 'FOOD#QUALITY' 'FOOD#QUALITY'\n",
      " 'RESTAURANT#GENERAL' 'RESTAURANT#GENERAL' 'SERVICE#GENERAL'\n",
      " 'SERVICE#GENERAL' 'SERVICE#GENERAL' 'SERVICE#GENERAL' 'FOOD#QUALITY'\n",
      " 'FOOD#QUALITY' 'FOOD#QUALITY' 'FOOD#QUALITY' 'FOOD#QUALITY'\n",
      " 'FOOD#QUALITY' 'FOOD#QUALITY' 'SERVICE#GENERAL' 'SERVICE#GENERAL'\n",
      " 'SERVICE#GENERAL' 'RESTAURANT#GENERAL' 'SERVICE#GENERAL'\n",
      " 'SERVICE#GENERAL' 'SERVICE#GENERAL' 'SERVICE#GENERAL' 'SERVICE#GENERAL'\n",
      " 'FOOD#QUALITY' 'FOOD#QUALITY' 'FOOD#QUALITY' 'SERVICE#GENERAL'\n",
      " 'FOOD#QUALITY' 'FOOD#QUALITY' 'FOOD#QUALITY' 'RESTAURANT#GENERAL'\n",
      " 'FOOD#QUALITY' 'RESTAURANT#GENERAL' 'AMBIENCE#GENERAL' 'AMBIENCE#GENERAL'\n",
      " 'FOOD#QUALITY' 'FOOD#QUALITY' 'FOOD#QUALITY' 'RESTAURANT#GENERAL'\n",
      " 'RESTAURANT#GENERAL' 'FOOD#QUALITY' 'FOOD#QUALITY' 'FOOD#QUALITY'\n",
      " 'FOOD#QUALITY' 'FOOD#QUALITY' 'FOOD#QUALITY' 'FOOD#QUALITY'\n",
      " 'RESTAURANT#GENERAL' 'RESTAURANT#GENERAL' 'FOOD#QUALITY' 'FOOD#QUALITY'\n",
      " 'FOOD#QUALITY' 'FOOD#QUALITY' 'FOOD#QUALITY' 'FOOD#QUALITY'\n",
      " 'FOOD#QUALITY' 'FOOD#QUALITY' 'FOOD#QUALITY' 'FOOD#QUALITY'\n",
      " 'FOOD#QUALITY' 'RESTAURANT#GENERAL' 'AMBIENCE#GENERAL' 'FOOD#QUALITY'\n",
      " 'FOOD#QUALITY' 'SERVICE#GENERAL' 'SERVICE#GENERAL' 'SERVICE#GENERAL'\n",
      " 'FOOD#QUALITY' 'FOOD#QUALITY' 'FOOD#QUALITY' 'FOOD#QUALITY'\n",
      " 'FOOD#QUALITY' 'FOOD#QUALITY' 'FOOD#QUALITY' 'FOOD#QUALITY'\n",
      " 'FOOD#QUALITY' 'FOOD#QUALITY' 'FOOD#QUALITY' 'FOOD#QUALITY'\n",
      " 'FOOD#QUALITY' 'FOOD#QUALITY' 'FOOD#QUALITY' 'FOOD#QUALITY'\n",
      " 'FOOD#QUALITY' 'FOOD#QUALITY' 'FOOD#QUALITY' 'FOOD#QUALITY'\n",
      " 'SERVICE#GENERAL' 'RESTAURANT#GENERAL' 'RESTAURANT#GENERAL'\n",
      " 'RESTAURANT#GENERAL' 'SERVICE#GENERAL' 'RESTAURANT#GENERAL'\n",
      " 'RESTAURANT#GENERAL' 'RESTAURANT#GENERAL' 'SERVICE#GENERAL'\n",
      " 'RESTAURANT#GENERAL' 'FOOD#QUALITY' 'FOOD#QUALITY' 'FOOD#QUALITY'\n",
      " 'FOOD#QUALITY' 'FOOD#QUALITY' 'FOOD#QUALITY' 'FOOD#QUALITY'\n",
      " 'RESTAURANT#GENERAL' 'SERVICE#GENERAL' 'FOOD#QUALITY'\n",
      " 'RESTAURANT#GENERAL' 'FOOD#QUALITY' 'FOOD#QUALITY' 'AMBIENCE#GENERAL'\n",
      " 'RESTAURANT#GENERAL' 'FOOD#QUALITY' 'FOOD#QUALITY' 'AMBIENCE#GENERAL'\n",
      " 'FOOD#QUALITY' 'FOOD#QUALITY' 'FOOD#QUALITY' 'FOOD#QUALITY'\n",
      " 'FOOD#QUALITY' 'RESTAURANT#GENERAL' 'FOOD#QUALITY' 'FOOD#QUALITY'\n",
      " 'FOOD#QUALITY' 'FOOD#QUALITY' 'FOOD#QUALITY' 'FOOD#QUALITY'\n",
      " 'FOOD#QUALITY' 'RESTAURANT#GENERAL' 'RESTAURANT#GENERAL' 'FOOD#QUALITY'\n",
      " 'RESTAURANT#GENERAL' 'SERVICE#GENERAL' 'FOOD#QUALITY' 'FOOD#QUALITY'\n",
      " 'FOOD#QUALITY' 'FOOD#QUALITY' 'FOOD#QUALITY']\n"
     ]
    },
    {
     "data": {
      "text/plain": [
       "review_id\n",
       "2114    FOOD#QUALITY,FOOD#QUALITY,FOOD#QUALITY,SERVICE...\n",
       "2115               FOOD#QUALITY,FOOD#QUALITY,FOOD#QUALITY\n",
       "2127                                         FOOD#QUALITY\n",
       "2130                                         FOOD#QUALITY\n",
       "2135    FOOD#QUALITY,FOOD#QUALITY,FOOD#QUALITY,FOOD#QU...\n",
       "                              ...                        \n",
       "2800                                         FOOD#QUALITY\n",
       "2801                                         FOOD#QUALITY\n",
       "2802                                         FOOD#QUALITY\n",
       "2805                                         FOOD#QUALITY\n",
       "2807                                         FOOD#QUALITY\n",
       "Name: predicted_category, Length: 404, dtype: object"
      ]
     },
     "execution_count": 34,
     "metadata": {},
     "output_type": "execute_result"
    }
   ],
   "source": [
    "pre_res = label_encoder.inverse_transform(res)\n",
    "print(pre_res)\n",
    "df = pd.DataFrame({'review_id': id_test,\n",
    "     'predicted_category': pre_res})\n",
    "#print(df)\n",
    "predicted_data = df.groupby('review_id')['predicted_category'].apply(lambda x : ','.join(x))\n",
    "predicted_data"
   ]
  },
  {
   "cell_type": "code",
   "execution_count": 35,
   "metadata": {},
   "outputs": [],
   "source": [
    "misclassified = [0, 0, 0, 0]\n",
    "np_category = ['AMBIENCE#GENERAL', 'FOOD#QUALITY', 'RESTAURANT#GENERAL', 'SERVICE#GENERAL']"
   ]
  },
  {
   "cell_type": "code",
   "execution_count": 36,
   "metadata": {},
   "outputs": [
    {
     "name": "stdout",
     "output_type": "stream",
     "text": [
      "0.7623762376237624\n",
      "[17, 25, 23, 31]\n"
     ]
    }
   ],
   "source": [
    "# to see how many sentence got all the categories right\n",
    "no_of_sentence = predicted_data.size\n",
    "no_of_sentence_correct = 0\n",
    "for index, value in predicted_data.items():\n",
    "    match = True\n",
    "    predicted_value = value.split(',')\n",
    "    actual_value = actual_category[actual_category['review_id'] == index]['category']\n",
    "    actual_value = actual_value.tolist()[0].split(',')\n",
    "    for elem in actual_value:\n",
    "        if elem not in predicted_value:\n",
    "            match = False\n",
    "            misclassified[np_category.index(elem)] += 1 \n",
    "            break\n",
    "    if match:\n",
    "        no_of_sentence_correct += 1\n",
    "\n",
    "print(no_of_sentence_correct/no_of_sentence)\n",
    "print(misclassified)"
   ]
  },
  {
   "cell_type": "code",
   "execution_count": 37,
   "metadata": {},
   "outputs": [
    {
     "data": {
      "text/plain": [
       "['finalized_hybrid_svm_aspect.sav']"
      ]
     },
     "execution_count": 37,
     "metadata": {},
     "output_type": "execute_result"
    }
   ],
   "source": [
    "filename = 'finalized_hybrid_svm_aspect.sav'\n",
    "joblib.dump(chosen, filename)"
   ]
  },
  {
   "cell_type": "code",
   "execution_count": 38,
   "metadata": {},
   "outputs": [
    {
     "name": "stderr",
     "output_type": "stream",
     "text": [
      "/Users/KeeJay/Downloads/FYP/venv/lib/python3.6/site-packages/ipykernel_launcher.py:2: FutureWarning: The signature of `Series.to_csv` was aligned to that of `DataFrame.to_csv`, and argument 'header' will change its default value from False to True: please pass an explicit value to suppress this warning.\n",
      "  \n"
     ]
    }
   ],
   "source": [
    "actual_category.to_csv(\"hybrid_actual_category.csv\")\n",
    "predicted_data.to_csv(\"hybrid_predicted_category.csv\")"
   ]
  },
  {
   "cell_type": "code",
   "execution_count": null,
   "metadata": {},
   "outputs": [],
   "source": []
  },
  {
   "cell_type": "code",
   "execution_count": null,
   "metadata": {},
   "outputs": [],
   "source": []
  },
  {
   "cell_type": "markdown",
   "metadata": {},
   "source": [
    "### User Input\n"
   ]
  },
  {
   "cell_type": "code",
   "execution_count": 39,
   "metadata": {},
   "outputs": [],
   "source": [
    "java_path = \"C:/Program Files/Java/jdk-11.0.2/bin/java.exe\"\n",
    "# java_path = \"C:/Program Files/Java/jdk1.8.0_201/bin/java.exe\"\n",
    "os.environ['JAVA_HOME'] = java_path \n",
    "\n",
    "#For stanford POS Tagger\n",
    "home = os.getcwd() + \"/stanford-postagger-2018-10-16\"\n",
    "from nltk.tag.stanford import StanfordPOSTagger as POS_Tag\n",
    "from nltk import word_tokenize\n",
    "_path_to_model = home + '/models/english-bidirectional-distsim.tagger' \n",
    "_path_to_jar = home + '/stanford-postagger.jar'\n",
    "stanford_tag = POS_Tag(model_filename=_path_to_model, path_to_jar=_path_to_jar)"
   ]
  },
  {
   "cell_type": "code",
   "execution_count": 40,
   "metadata": {},
   "outputs": [],
   "source": [
    "#To tag using stanford pos tagger\n",
    "def posTag(review):\n",
    "    tagged_text_list=[]\n",
    "    for text in review:\n",
    "        tagged_text_list.append(stanford_tag.tag(word_tokenize(text)))\n",
    "    return tagged_text_list\n",
    "\n",
    "#Filter the word with tag- noun,adjective,verb,adverb\n",
    "def filterTag(tagged_review):\n",
    "    final_text_list=[]\n",
    "    for text_list in tagged_review:\n",
    "        final_text=[]\n",
    "        for word,tag in text_list:\n",
    "            if tag in ['NN','NNS','NNP','NNPS','RB','RBR','RBS','JJ','JJR','JJS','VB','VBD','VBG','VBN','VBP','VBZ']:\n",
    "                final_text.append(word)\n",
    "        final_text_list.append(' '.join(final_text))\n",
    "    return final_text_list\n"
   ]
  },
  {
   "cell_type": "code",
   "execution_count": 41,
   "metadata": {},
   "outputs": [],
   "source": [
    "import nltk\n",
    "from nltk.tokenize import word_tokenize \n",
    "from spellchecker import SpellChecker\n",
    "import string\n",
    "import re\n",
    "\n",
    "# Reduce duplicated letters in a word to be maximum of 2.\n",
    "\n",
    "def word_lengthening(sentence):\n",
    "    list_words = sentence\n",
    "    pattern = re.compile(r\"(.)\\1{2,}\")\n",
    "    reduced_list = [pattern.sub(r\"\\1\\1\", word) for word in list_words] # Perform reduce lenghtening\n",
    "    return reduced_list"
   ]
  },
  {
   "cell_type": "code",
   "execution_count": 42,
   "metadata": {},
   "outputs": [],
   "source": [
    "# Perform spell correction\n",
    "# Downside: Some names/abbreviations are also used for spell correction which could cause some inconsistency.\n",
    "\n",
    "spell = SpellChecker()\n",
    "\n",
    "def spell_correction(sentence):\n",
    "    list_words = sentence\n",
    "    spell_list = [spell.correction(word) for word in list_words]\n",
    "    return spell_list"
   ]
  },
  {
   "cell_type": "code",
   "execution_count": 43,
   "metadata": {},
   "outputs": [],
   "source": [
    "# Remove punctuations from all sentences\n",
    "def remove_punct(my_sentence):\n",
    "    trans_table = str.maketrans(string.punctuation, ' '*len(string.punctuation))\n",
    "    no_punct = my_sentence.translate(trans_table)\n",
    "    return no_punct"
   ]
  },
  {
   "cell_type": "code",
   "execution_count": 44,
   "metadata": {},
   "outputs": [],
   "source": [
    "from sklearn.feature_extraction.text import CountVectorizer\n",
    "vect = CountVectorizer(max_df=1.0,stop_words='english')  "
   ]
  },
  {
   "cell_type": "code",
   "execution_count": 45,
   "metadata": {},
   "outputs": [
    {
     "ename": "KeyboardInterrupt",
     "evalue": "Interrupted by user",
     "output_type": "error",
     "traceback": [
      "\u001b[0;31m---------------------------------------------------------------------------\u001b[0m",
      "\u001b[0;31mKeyboardInterrupt\u001b[0m                         Traceback (most recent call last)",
      "\u001b[0;32m<ipython-input-45-63cac5f1904a>\u001b[0m in \u001b[0;36m<module>\u001b[0;34m\u001b[0m\n\u001b[1;32m      1\u001b[0m \u001b[0;31m#Aspect analyis of user's input.\u001b[0m\u001b[0;34m\u001b[0m\u001b[0;34m\u001b[0m\u001b[0m\n\u001b[0;32m----> 2\u001b[0;31m \u001b[0muser_input\u001b[0m\u001b[0;34m=\u001b[0m\u001b[0minput\u001b[0m\u001b[0;34m(\u001b[0m\u001b[0;34m\"Enter a restaurant review:\\n\\n\"\u001b[0m\u001b[0;34m)\u001b[0m\u001b[0;34m\u001b[0m\u001b[0m\n\u001b[0m\u001b[1;32m      3\u001b[0m \u001b[0;34m\u001b[0m\u001b[0m\n\u001b[1;32m      4\u001b[0m \u001b[0;31m# Remove punctuations from sentence\u001b[0m\u001b[0;34m\u001b[0m\u001b[0;34m\u001b[0m\u001b[0m\n\u001b[1;32m      5\u001b[0m \u001b[0muser_input\u001b[0m \u001b[0;34m=\u001b[0m \u001b[0mremove_punct\u001b[0m\u001b[0;34m(\u001b[0m\u001b[0muser_input\u001b[0m\u001b[0;34m)\u001b[0m\u001b[0;34m\u001b[0m\u001b[0m\n",
      "\u001b[0;32m~/Downloads/FYP/venv/lib/python3.6/site-packages/ipykernel/kernelbase.py\u001b[0m in \u001b[0;36mraw_input\u001b[0;34m(self, prompt)\u001b[0m\n\u001b[1;32m    861\u001b[0m             \u001b[0mself\u001b[0m\u001b[0;34m.\u001b[0m\u001b[0m_parent_ident\u001b[0m\u001b[0;34m,\u001b[0m\u001b[0;34m\u001b[0m\u001b[0m\n\u001b[1;32m    862\u001b[0m             \u001b[0mself\u001b[0m\u001b[0;34m.\u001b[0m\u001b[0m_parent_header\u001b[0m\u001b[0;34m,\u001b[0m\u001b[0;34m\u001b[0m\u001b[0m\n\u001b[0;32m--> 863\u001b[0;31m             \u001b[0mpassword\u001b[0m\u001b[0;34m=\u001b[0m\u001b[0;32mFalse\u001b[0m\u001b[0;34m,\u001b[0m\u001b[0;34m\u001b[0m\u001b[0m\n\u001b[0m\u001b[1;32m    864\u001b[0m         )\n\u001b[1;32m    865\u001b[0m \u001b[0;34m\u001b[0m\u001b[0m\n",
      "\u001b[0;32m~/Downloads/FYP/venv/lib/python3.6/site-packages/ipykernel/kernelbase.py\u001b[0m in \u001b[0;36m_input_request\u001b[0;34m(self, prompt, ident, parent, password)\u001b[0m\n\u001b[1;32m    891\u001b[0m             \u001b[0;32mexcept\u001b[0m \u001b[0mKeyboardInterrupt\u001b[0m\u001b[0;34m:\u001b[0m\u001b[0;34m\u001b[0m\u001b[0m\n\u001b[1;32m    892\u001b[0m                 \u001b[0;31m# re-raise KeyboardInterrupt, to truncate traceback\u001b[0m\u001b[0;34m\u001b[0m\u001b[0;34m\u001b[0m\u001b[0m\n\u001b[0;32m--> 893\u001b[0;31m                 \u001b[0;32mraise\u001b[0m \u001b[0mKeyboardInterrupt\u001b[0m\u001b[0;34m(\u001b[0m\u001b[0;34m\"Interrupted by user\"\u001b[0m\u001b[0;34m)\u001b[0m \u001b[0;32mfrom\u001b[0m \u001b[0;32mNone\u001b[0m\u001b[0;34m\u001b[0m\u001b[0m\n\u001b[0m\u001b[1;32m    894\u001b[0m             \u001b[0;32melse\u001b[0m\u001b[0;34m:\u001b[0m\u001b[0;34m\u001b[0m\u001b[0m\n\u001b[1;32m    895\u001b[0m                 \u001b[0;32mbreak\u001b[0m\u001b[0;34m\u001b[0m\u001b[0m\n",
      "\u001b[0;31mKeyboardInterrupt\u001b[0m: Interrupted by user"
     ]
    }
   ],
   "source": [
    "#Aspect analyis of user's input.\n",
    "user_input=input(\"Enter a restaurant review:\\n\\n\")\n",
    "\n",
    "# Remove punctuations from sentence\n",
    "user_input = remove_punct(user_input)\n",
    "\n",
    "# Tokenize input sentence\n",
    "token_input = nltk.word_tokenize(user_input)\n",
    "print(\"Tokenize words: \", token_input)\n",
    "\n",
    "# Perform word correction\n",
    "word_correction = word_lengthening(token_input)\n",
    "correct_sentence = spell_correction(word_correction)\n",
    "joined_words = ( \" \".join(correct_sentence))\n",
    "print(\"Spelling correction: \", joined_words)\n",
    "\n",
    "#Preprocessing and vectorizing\n",
    "tagged_user_input = posTag([joined_words])\n",
    "print(\"Part-of-Speech Tagging: \", tagged_user_input)\n",
    "filter_tagged_user_input = filterTag(tagged_user_input)\n",
    "print(\"Filtered Part-of-Speech Tagging: \", filter_tagged_user_input)\n",
    "\n",
    "sequences = tokenizer.texts_to_sequences(filter_tagged_user_input)\n",
    "tokenised_sequence = pad_sequences(sequences, maxlen=MAX_SEQ_LENGTH, padding='post')\n",
    "np_phrase = np.array(tokenised_sequence)\n",
    "\n",
    "outputs = []\n",
    "for i in range(3, 4):\n",
    "    layer = model.layers[i]\n",
    "    keras_function = K.function([model.input], [layer.output])\n",
    "    outputs.append(keras_function([np_phrase, 1]))\n",
    "out = np.array(outputs)\n",
    "r_out = np.reshape(out, 10)\n",
    "e_out = np.expand_dims(r_out, axis=0)\n",
    "predict_aspect = chosen.predict(e_out)[0]\n",
    "sort_list = sorted(class_list)\n",
    "print(\"Category: \", sort_list[predict_aspect])\n",
    "print(predict_aspect)\n"
   ]
  },
  {
   "cell_type": "code",
   "execution_count": null,
   "metadata": {},
   "outputs": [],
   "source": []
  },
  {
   "cell_type": "code",
   "execution_count": null,
   "metadata": {},
   "outputs": [],
   "source": []
  }
 ],
 "metadata": {
  "kernelspec": {
   "display_name": "Python 3",
   "language": "python",
   "name": "python3"
  },
  "language_info": {
   "codemirror_mode": {
    "name": "ipython",
    "version": 3
   },
   "file_extension": ".py",
   "mimetype": "text/x-python",
   "name": "python",
   "nbconvert_exporter": "python",
   "pygments_lexer": "ipython3",
   "version": "3.6.3"
  }
 },
 "nbformat": 4,
 "nbformat_minor": 1
}
